{
 "cells": [
  {
   "cell_type": "markdown",
   "metadata": {
    "colab_type": "text",
    "id": "9XZEvoDUdSKh"
   },
   "source": [
    "# Machine Learning with Signals Data\n",
    "\n",
    "In this notebook we will be start using some of our machine learning techniques on signals data (audio).  We will be using a dataset consisting of recordings of spoken digits (0-9).  We will start by extracting some features from the signals and then apply our \"traditional\" ML algorithms, just as we did with our tabular data.  (In a future notebook we will see how to use ANNs to avoid needing to extract features.)<br><br>\n",
    "\n",
    "If you are interested in playing around with more audio data like this, we encourage you to check out [UrbanSound](https://urbansounddataset.weebly.com)."
   ]
  },
  {
   "cell_type": "code",
   "execution_count": 1,
   "metadata": {
    "colab": {},
    "colab_type": "code",
    "id": "3MIrMPcldSQZ"
   },
   "outputs": [
    {
     "name": "stdout",
     "output_type": "stream",
     "text": [
      "/bin/bash: pip: command not found\n",
      "Cloning into 'free-spoken-digit-dataset'...\n",
      "remote: Enumerating objects: 515, done.\u001b[K\n",
      "remote: Counting objects: 100% (515/515), done.\u001b[K\n",
      "remote: Compressing objects: 100% (511/511), done.\u001b[K\n",
      "remote: Total 3672 (delta 4), reused 510 (delta 4), pack-reused 3157\u001b[K\n",
      "Receiving objects: 100% (3672/3672), 26.94 MiB | 12.64 MiB/s, done.\n",
      "Resolving deltas: 100% (73/73), done.\n"
     ]
    }
   ],
   "source": [
    "# Install Graphvis library if it is not already installed\n",
    "!pip install graphviz \n",
    "\n",
    "# Clone the audio data repository (should cleanly fail if already downloaded)\n",
    "!git clone https://github.com/Jakobovski/free-spoken-digit-dataset.git\n",
    "\n",
    "# Define the path to where the data are downloaded\n",
    "data_dir = '/content/free-spoken-digit-dataset/recordings'"
   ]
  },
  {
   "cell_type": "code",
   "execution_count": 3,
   "metadata": {
    "colab": {},
    "colab_type": "code",
    "id": "vpJNjNBE8jiz"
   },
   "outputs": [],
   "source": [
    "# Import basic system and numerical packages\n",
    "import os\n",
    "import re\n",
    "import numpy as np\n",
    "import pandas as pd\n",
    "\n",
    "# Import statistical and signal processing functions\n",
    "from scipy import signal\n",
    "import scipy.stats.mstats as mstats\n",
    "from sklearn import metrics\n",
    "\n",
    "# Import the scikit-learn functions and models\n",
    "from sklearn.model_selection import train_test_split\n",
    "from sklearn import tree\n",
    "\n",
    "# Import audio i/o and playing functions\n",
    "import scipy.io.wavfile\n",
    "from IPython.display import Audio\n",
    "\n",
    "# Import plotting functionality\n",
    "import matplotlib\n",
    "import matplotlib.pyplot as plt\n",
    "import graphviz\n",
    "import seaborn as sns\n",
    "\n",
    "# Setup the plotting preferencs\n",
    "%matplotlib inline\n",
    "matplotlib.rcParams.update({'font.size': 16})"
   ]
  },
  {
   "cell_type": "code",
   "execution_count": 4,
   "metadata": {
    "colab": {},
    "colab_type": "code",
    "id": "StOtTzNzZHge"
   },
   "outputs": [],
   "source": [
    "# NOTE:  The sample resolution is the number of bits per sample and determines\n",
    "# the number of gradations in amplitude. More info can be found here:\n",
    "# http://www.asel.udel.edu/speech/tutorials/instrument/sam_res.html\n",
    "\n",
    "# Define a function to display the pre-computed fourier transform of a signal\n",
    "def plot_FT(ft, f_s):\n",
    "    \"\"\"\n",
    "    Plots the Fourier Transform frequency spectrum\n",
    "    :param ft: output of Fourier Transform (i.e., np.fft.fft())\n",
    "    :param f_s: sampling frequency (or `sampling rate`) (in Hz)\n",
    "    \"\"\"\n",
    "    # Generate the frequencies associated with the fourier transform values\n",
    "    num_samples = len(ft)\n",
    "    freqs = np.linspace(0, f_s, num_samples)\n",
    "\n",
    "    # Plot and label the fourier transform amplitude values\n",
    "    plt.plot(freqs[0:num_samples//2],\n",
    "             np.abs(ft[0:num_samples//2]) * (2/num_samples))\n",
    "    plt.ylabel(\"Amplitude\")\n",
    "    plt.xlabel(\"Frequency [Hz]\")"
   ]
  },
  {
   "cell_type": "markdown",
   "metadata": {
    "colab_type": "text",
    "id": "RggupxR1iHuI"
   },
   "source": [
    "\n",
    "Let's take a look at one of the files and see what it \"looks\" like."
   ]
  },
  {
   "cell_type": "code",
   "execution_count": 5,
   "metadata": {
    "colab": {},
    "colab_type": "code",
    "id": "vHkeAELlXEKq"
   },
   "outputs": [
    {
     "ename": "FileNotFoundError",
     "evalue": "[Errno 2] No such file or directory: '/content/free-spoken-digit-dataset/recordings/0_jackson_0.wav'",
     "output_type": "error",
     "traceback": [
      "\u001b[0;31m---------------------------------------------------------------------------\u001b[0m",
      "\u001b[0;31mFileNotFoundError\u001b[0m                         Traceback (most recent call last)",
      "\u001b[0;32m<ipython-input-5-67d877a4cf0e>\u001b[0m in \u001b[0;36m<module>\u001b[0;34m\u001b[0m\n\u001b[1;32m      1\u001b[0m \u001b[0;31m# Read in an audio file: count number of samples and compute sample interval\u001b[0m\u001b[0;34m\u001b[0m\u001b[0;34m\u001b[0m\u001b[0;34m\u001b[0m\u001b[0m\n\u001b[1;32m      2\u001b[0m \u001b[0mexample_file\u001b[0m \u001b[0;34m=\u001b[0m \u001b[0mos\u001b[0m\u001b[0;34m.\u001b[0m\u001b[0mpath\u001b[0m\u001b[0;34m.\u001b[0m\u001b[0mjoin\u001b[0m\u001b[0;34m(\u001b[0m\u001b[0mdata_dir\u001b[0m\u001b[0;34m,\u001b[0m\u001b[0;34m'0_jackson_0.wav'\u001b[0m\u001b[0;34m)\u001b[0m\u001b[0;34m\u001b[0m\u001b[0;34m\u001b[0m\u001b[0m\n\u001b[0;32m----> 3\u001b[0;31m \u001b[0;34m(\u001b[0m\u001b[0msample_rate\u001b[0m\u001b[0;34m,\u001b[0m \u001b[0my\u001b[0m\u001b[0;34m)\u001b[0m \u001b[0;34m=\u001b[0m \u001b[0mscipy\u001b[0m\u001b[0;34m.\u001b[0m\u001b[0mio\u001b[0m\u001b[0;34m.\u001b[0m\u001b[0mwavfile\u001b[0m\u001b[0;34m.\u001b[0m\u001b[0mread\u001b[0m\u001b[0;34m(\u001b[0m\u001b[0mexample_file\u001b[0m\u001b[0;34m)\u001b[0m\u001b[0;34m\u001b[0m\u001b[0;34m\u001b[0m\u001b[0m\n\u001b[0m\u001b[1;32m      4\u001b[0m \u001b[0mnum_samples\u001b[0m \u001b[0;34m=\u001b[0m \u001b[0mlen\u001b[0m\u001b[0;34m(\u001b[0m\u001b[0my\u001b[0m\u001b[0;34m)\u001b[0m\u001b[0;34m\u001b[0m\u001b[0;34m\u001b[0m\u001b[0m\n\u001b[1;32m      5\u001b[0m \u001b[0msample_interval\u001b[0m \u001b[0;34m=\u001b[0m \u001b[0;36m1.0\u001b[0m\u001b[0;34m/\u001b[0m\u001b[0msample_rate\u001b[0m\u001b[0;34m\u001b[0m\u001b[0;34m\u001b[0m\u001b[0m\n",
      "\u001b[0;32m/usr/local/lib/python3.7/site-packages/scipy/io/wavfile.py\u001b[0m in \u001b[0;36mread\u001b[0;34m(filename, mmap)\u001b[0m\n\u001b[1;32m    262\u001b[0m         \u001b[0mmmap\u001b[0m \u001b[0;34m=\u001b[0m \u001b[0;32mFalse\u001b[0m\u001b[0;34m\u001b[0m\u001b[0;34m\u001b[0m\u001b[0m\n\u001b[1;32m    263\u001b[0m     \u001b[0;32melse\u001b[0m\u001b[0;34m:\u001b[0m\u001b[0;34m\u001b[0m\u001b[0;34m\u001b[0m\u001b[0m\n\u001b[0;32m--> 264\u001b[0;31m         \u001b[0mfid\u001b[0m \u001b[0;34m=\u001b[0m \u001b[0mopen\u001b[0m\u001b[0;34m(\u001b[0m\u001b[0mfilename\u001b[0m\u001b[0;34m,\u001b[0m \u001b[0;34m'rb'\u001b[0m\u001b[0;34m)\u001b[0m\u001b[0;34m\u001b[0m\u001b[0;34m\u001b[0m\u001b[0m\n\u001b[0m\u001b[1;32m    265\u001b[0m \u001b[0;34m\u001b[0m\u001b[0m\n\u001b[1;32m    266\u001b[0m     \u001b[0;32mtry\u001b[0m\u001b[0;34m:\u001b[0m\u001b[0;34m\u001b[0m\u001b[0;34m\u001b[0m\u001b[0m\n",
      "\u001b[0;31mFileNotFoundError\u001b[0m: [Errno 2] No such file or directory: '/content/free-spoken-digit-dataset/recordings/0_jackson_0.wav'"
     ]
    }
   ],
   "source": [
    "# Read in an audio file: count number of samples and compute sample interval\n",
    "example_file = os.path.join(data_dir,'0_jackson_0.wav')\n",
    "(sample_rate, y) = scipy.io.wavfile.read(example_file)\n",
    "num_samples = len(y)\n",
    "sample_interval = 1.0/sample_rate\n",
    "\n",
    "# Using np.arange allows you to easily guarantee that the *time interval*\n",
    "# between samples is correct.\n",
    "t = np.arange(0, num_samples/sample_rate, sample_interval)\n",
    "\n",
    "# # Using np.linspace allows you to easily guarantee that the *number* of\n",
    "# # timestamps matches the number in the audio signal.\n",
    "# t = np.linspace(0, num_samples/sample_rate, num_samples, endpoint=False)\n",
    "\n",
    "# Compute the fourier transform of the audio signal\n",
    "ft = np.fft.fft(y)\n",
    "\n",
    "# Compute the spectrogram of the audo signal\n",
    "sample_freq, segment_time, spec_data = signal.spectrogram(y, sample_rate)\n",
    "\n",
    "# Display the results to the user\n",
    "plt.figure(figsize=(10, 20))\n",
    "\n",
    "# Plot the original signal\n",
    "plt.subplot(4, 1, 1)\n",
    "plt.plot(t, y)\n",
    "plt.xlabel('Time (sec)')\n",
    "plt.title('Signal (time domain): {}'.format(os.path.basename(example_file)))\n",
    "\n",
    "# Display the fourier transform of the signal\n",
    "plt.subplot(4, 1, 2)\n",
    "plot_FT(ft, sample_rate)\n",
    "plt.title('Fourier Transform')\n",
    "\n",
    "# Display the spectrogram of the signal\n",
    "# (Allow Matplotlib to compute the spectrogram for you) \n",
    "plt.subplot(4, 1, 3)\n",
    "plt.specgram(y, Fs=sample_rate)\n",
    "plt.xlabel('Time (sec)')\n",
    "plt.ylabel('Frequency (Hz)')\n",
    "plt.title('Spectrogram (Matplotlib)')\n",
    "\n",
    "# Display the spectrogram of the signal\n",
    "# (This is the pre-computed version from the scipy.signal.spectrogram function)\n",
    "spec_data_dB = 10*np.log10(spec_data)\n",
    "plt.subplot(4, 1, 4)\n",
    "plt.pcolormesh(segment_time, sample_freq, spec_data_dB, vmin=0, vmax=50)\n",
    "plt.xlabel('Time (sec)')\n",
    "plt.ylabel('Frequency (Hz)')\n",
    "plt.title('Spectogram (Scipy)')\n",
    "\n",
    "# Increase padding between plots to leave room for titles and show the plots\n",
    "plt.subplots_adjust(hspace=0.6)\n",
    "plt.show()"
   ]
  },
  {
   "cell_type": "code",
   "execution_count": null,
   "metadata": {
    "colab": {},
    "colab_type": "code",
    "id": "ciiJFa-aXq8b"
   },
   "outputs": [],
   "source": [
    "Audio(data=y, rate=sample_rate)"
   ]
  },
  {
   "cell_type": "markdown",
   "metadata": {
    "colab_type": "text",
    "id": "jPEORGagajex"
   },
   "source": [
    "## Feature Extraction\n",
    "Let's extract some features that are useful in signals processing."
   ]
  },
  {
   "cell_type": "markdown",
   "metadata": {
    "colab_type": "text",
    "id": "p4pwjmMHcjk5"
   },
   "source": [
    "### Spectral Centroid\n",
    "\n",
    "The [**spectral centroid**](https://en.wikipedia.org/wiki/Spectral_centroid) indicates at which frequency the energy of a spectrum is centered upon. This is like a weighted mean:\n",
    "$$f_c=\\frac{\\sum_kA(k)f(k)}{\\sum_kA(k)}$$\n",
    " \n",
    "where $A(k)$ is the spectral magnitude at frequency bin $k$,  $f(k)$ is the frequency at bin $k$\n",
    " ."
   ]
  },
  {
   "cell_type": "code",
   "execution_count": null,
   "metadata": {
    "colab": {},
    "colab_type": "code",
    "id": "ThhUeXOCYXAN"
   },
   "outputs": [],
   "source": [
    "def spectral_centroid(ft, f_s):\n",
    "    \"\"\"\n",
    "    Computes the spectral centroid from the FT of a signal\n",
    "\n",
    "    :param ft: output of Fourier Transform (i.e., np.fft.fft())\n",
    "    :param f_s: sampling frequency (or `sampling rate`) (in Hz)\n",
    "    \"\"\"\n",
    "    # Generate the frequencies associated with the fourier transform values\n",
    "    num_samples = len(ft)\n",
    "    freqs = np.linspace(0, f_s, num_samples)\n",
    "\n",
    "    # Grab the magnitude of the relevant part of the fourier transform values\n",
    "    freqs = freqs[0:num_samples//2]\n",
    "    magnitude = np.abs(ft[0:num_samples//2]) * (2/num_samples)\n",
    "    \n",
    "    # Compute the weighted frequency to get the specral centroid\n",
    "    spec_centroid = np.sum(magnitude*freqs)/np.sum(magnitude)\n",
    "\n",
    "    return spec_centroid"
   ]
  },
  {
   "cell_type": "markdown",
   "metadata": {
    "colab_type": "text",
    "id": "POEqXNK7lbUu"
   },
   "source": [
    "### Spectral Flatness\n",
    "\n",
    "The [**spectral flatness**](https://en.wikipedia.org/wiki/Spectral_flatness), also known as Wiener entropy, is a measure used in digital signal processing to characterize an audio spectrum. Spectral flatness is typically measured in decibels, and provides a way to quantify how noise-like a sound is, as opposed to being tone-like."
   ]
  },
  {
   "cell_type": "code",
   "execution_count": null,
   "metadata": {
    "colab": {},
    "colab_type": "code",
    "id": "LrpDbTp8bZWR"
   },
   "outputs": [],
   "source": [
    "def spectral_flatness(ft):\n",
    "    \"\"\"\n",
    "    Computes the spectral flatness of the FT of a signal\n",
    "    \n",
    "    :param ft: output of Fourier Transform (i.e., np.fft.fft())\n",
    "    \"\"\"\n",
    "    # Grab the magnitude of the relevant part of the fourier transform values\n",
    "    num_samples = len(ft)\n",
    "    magnitude = abs(ft[0:num_samples//2]) * (2/num_samples)\n",
    " \n",
    "    # Spectral flatness is simply the geometric mean of the FT magnitude\n",
    "    # divided by the arithmetic mean of the FT magnitude\n",
    "    spec_flatness = mstats.gmean(magnitude)/np.mean(magnitude)\n",
    "\n",
    "    return spec_flatness"
   ]
  },
  {
   "cell_type": "markdown",
   "metadata": {
    "colab_type": "text",
    "id": "blizQbTb8SU3"
   },
   "source": [
    "### Maximum Frequency Value\n",
    "The frequency at maximum altitude isn't necessarily a particularly informative feature, but it's easy to extract."
   ]
  },
  {
   "cell_type": "code",
   "execution_count": null,
   "metadata": {
    "colab": {},
    "colab_type": "code",
    "id": "RrrsRVURlr-m"
   },
   "outputs": [],
   "source": [
    "def max_freq(ft, f_s):\n",
    "    \"\"\"\n",
    "    Computes the frequency with the largest magnitude in the fourier transform\n",
    "\n",
    "    :param ft: output of Fourier Transform (i.e., np.fft.fft())\n",
    "    :param f_s: sampling frequency (or `sampling rate`) (in Hz)\n",
    "    \"\"\"\n",
    "    # Generate\n",
    "    num_samples = len(ft)\n",
    "    freqs = np.linspace(0, f_s, num_samples)\n",
    "    \n",
    "    # Grab the magnitude of the relevant portion of the fourier transform. In\n",
    "    # this case we are going to ignore the `0-frequency` component in case the\n",
    "    # signal was not debiased. That frequency really contains no information.\n",
    "    freqs = freqs[1:num_samples//2]\n",
    "    mag = np.abs(ft[1:num_samples//2]) * (2/num_samples)\n",
    "\n",
    "    # Use the np.argmax function to locate the maximum magnitude of the FT\n",
    "    max_ind = np.argmax(mag)\n",
    "    max_frequency = freqs[max_ind]\n",
    "\n",
    "    return max_frequency"
   ]
  },
  {
   "cell_type": "markdown",
   "metadata": {
    "colab_type": "text",
    "id": "hUHeQYVok4I_"
   },
   "source": [
    "### Calculate hand-engineered features for single example\n",
    "This is what our one data point looks like in our dataframe:"
   ]
  },
  {
   "cell_type": "code",
   "execution_count": null,
   "metadata": {
    "colab": {},
    "colab_type": "code",
    "id": "fRSK0qnli8s-"
   },
   "outputs": [],
   "source": [
    "# We can use the regular expression functionality (`re` package) to robustly\n",
    "# parse the name of each audio file to retrieve the digit spoken, the person\n",
    "# speaking, and the trial number of that digit-speaker pair.\n",
    "#\n",
    "# The following lines create little \"string parsers\" to grab that information.\n",
    "re_digit = re.compile('\\d+_')\n",
    "re_speaker = re.compile('_[a-z]+_')\n",
    "re_trial = re.compile('_\\d.')\n",
    "\n",
    "# Use these string parsers to grab the digit, speaker, and trial from the name\n",
    "# of the example_file.\n",
    "digit = int(re.match(re_digit, os.path.basename(example_file))[0][:-1])\n",
    "speaker = re.search(re_speaker, os.path.basename(example_file))[0][1:-1]\n",
    "trial = int(re.search(re_trial, os.path.basename(example_file))[0][1:-1])\n",
    "\n",
    "# Load this information into a dataframe and create columns to hold the\n",
    "# Spectral Centroid (SC)\n",
    "# Spectral Flatness (SF)\n",
    "# Maximum Frequency (MF)\n",
    "df = pd.DataFrame(columns=['file','digit','speaker','trial','SC','SF','MF'])\n",
    "\n",
    "# Compute each of these audio features\n",
    "sc = spectral_centroid(ft, sample_rate)\n",
    "sf = spectral_flatness(ft)\n",
    "mf = max_freq(ft, sample_rate)\n",
    "\n",
    "# Add the filename, digit, speaker, trial, and audio features to the datafram\n",
    "feature_dict = {'file':os.path.basename(example_file),'digit':digit,\n",
    "                        'speaker':speaker,'trial':trial,'SC':sc,'SF':sf,'MF':mf}\n",
    "df = df.append(feature_dict, ignore_index=True)\n",
    "df"
   ]
  },
  {
   "cell_type": "markdown",
   "metadata": {
    "colab_type": "text",
    "id": "-mPEZTcSkYnZ"
   },
   "source": [
    "## Load full dataset and extract features"
   ]
  },
  {
   "cell_type": "code",
   "execution_count": null,
   "metadata": {
    "colab": {},
    "colab_type": "code",
    "id": "C2nB-pLjoVlU"
   },
   "outputs": [],
   "source": [
    "# Create a dataframe to store the entire audio database and its features\n",
    "df = pd.DataFrame(columns=['file','digit','speaker','trial','SC','SF','MF'])\n",
    "\n",
    "# Loop over each audio file in the data directory\n",
    "for audio_file in os.listdir(data_dir):\n",
    "    # Try to load the file and parse all of its contents.\n",
    "    # If something goes wrong, Python will execute the contents of the \"except\"\n",
    "    # codeblock.\n",
    "    try:\n",
    "        # Use the same string parsers from before and grab info from filename\n",
    "        digit = int(re.match(re_digit, audio_file)[0][:-1])\n",
    "        speaker = re.search(re_speaker, audio_file)[0][1:-1]\n",
    "        trial = int(re.search(re_trial, audio_file)[0][1:-1])\n",
    "\n",
    "        # Read in the audio file\n",
    "        full_path_to_audio_file = os.path.join(data_dir, audio_file)\n",
    "        (sample_rate, y) = scipy.io.wavfile.read(full_path_to_audio_file)\n",
    "        \n",
    "        # If the audio recording is in stereo (2-channels), just use one of them\n",
    "        if len(y.shape) == 2:\n",
    "            y = y[:,0]\n",
    "\n",
    "        # Grab the number of samples, compute the sample interval, and generate\n",
    "        # the time-stamps for each of the audio samples\n",
    "        num_samples = len(y)\n",
    "        sample_interval = 1.0/sample_rate\n",
    "        t = np.arange(0, num_samples/sample_rate, sample_interval)\n",
    "\n",
    "        # Compute the Fourier Transform of the audio signal\n",
    "        ft = np.fft.fft(y)\n",
    "\n",
    "        # Calculate the audio features to be stored in the data fram\n",
    "        sc = spectral_centroid(ft, sample_rate)\n",
    "        sf = spectral_flatness(ft)\n",
    "        mf = max_freq(ft, sample_rate)\n",
    "\n",
    "        # Add the info for this file to our dataframe\n",
    "        feature_dict = {'file':os.path.basename(audio_file),'digit':digit,\n",
    "                        'speaker':speaker,'trial':trial,'SC':sc,'SF':sf,'MF':mf}\n",
    "        df = df.append(feature_dict, ignore_index=True)\n",
    "\n",
    "    except Exception as err:\n",
    "        # Something went wrong!  =(\n",
    "        # Notife the user of the audio file that broke and what the error was\n",
    "        print(audio_file)\n",
    "        raise err"
   ]
  },
  {
   "cell_type": "code",
   "execution_count": null,
   "metadata": {
    "colab": {},
    "colab_type": "code",
    "id": "m1-LovEVqnh2"
   },
   "outputs": [],
   "source": [
    "# Print the head of the dataframe\n",
    "print('df.head():\\n')\n",
    "print(df.head(15))\n",
    "\n",
    "# Also print some summary information about the dataframe\n",
    "print('\\n\\ndf.info():\\n')\n",
    "print(df.info())"
   ]
  },
  {
   "cell_type": "code",
   "execution_count": null,
   "metadata": {
    "colab": {},
    "colab_type": "code",
    "id": "r_k_wABdu2YI"
   },
   "outputs": [],
   "source": [
    "# Visualize a pairplot of the spectral features. In this instance, color each\n",
    "# datapoint by the *person* speaking the digit to see if each *speaker* has a\n",
    "# distinguishable set of spectral characteristics (e.g., deep vs high voice)\n",
    "g = sns.pairplot(data=df, vars=['SC', 'SF', 'MF'],\n",
    "                 hue='speaker', corner=True)\n",
    "plt.suptitle('Spectral Features (colored by speaker)', x=0.5, y=1.02)\n",
    "\n",
    "# Clean up the plot appearance\n",
    "plt.gcf().tight_layout()\n",
    "\n",
    "# Repeat this plot, but now color each datapoint by the *digit* being spoken to\n",
    "# see if each *word* has a distinguishable set of spectral characteristics\n",
    "# (e.g., does the buzzing 'z' in 'zero' cause a different set of characteristics\n",
    "# than the shap 't' sound in 'two'?)\n",
    "g = sns.pairplot(data=df, vars=['SC', 'SF', 'MF'],\n",
    "                 hue='digit', corner=True)\n",
    "plt.suptitle('Spectral Features (colored by digit)', x=0.5, y=1.02)\n",
    "\n",
    "# Clean up the plot appearance\n",
    "plt.gcf().tight_layout()"
   ]
  },
  {
   "cell_type": "markdown",
   "metadata": {
    "colab_type": "text",
    "id": "nT74fm4M1eV-"
   },
   "source": [
    "# Train Machine Learning Algorithm\n",
    "\n",
    "With these example features in hand, we can build a classification tool using some of the machine learning techniques from previous notebooks."
   ]
  },
  {
   "cell_type": "markdown",
   "metadata": {
    "colab_type": "text",
    "id": "Ea-R5qDQtDbO"
   },
   "source": [
    "## Prepare Training Data\n",
    "\n",
    "As a first step in this process, we specify which column of the dataframe contains the 'label' information. We also specify the complete set of features to be used in the classification process. This should generally be *all* of the columns except for the one being used as the 'label,' and it should not contain any of the columns generated from the filename because these do not actually contain information about the audio content.\n",
    "\n",
    "(Note: we use the builtin Python [set object](https://docs.python.org/3.6/library/stdtypes.html#set-types-set-frozenset) to quickly process the dataframe columns.)"
   ]
  },
  {
   "cell_type": "code",
   "execution_count": null,
   "metadata": {
    "colab": {},
    "colab_type": "code",
    "id": "UdTb80ywsnIJ"
   },
   "outputs": [],
   "source": [
    "# Select the name of the column to be used as the desired 'label' output\n",
    "label = 'speaker'\n",
    "\n",
    "# Create a list of features to be used in the classification process.\n",
    "# We use the 'set' object in Python to quickly remove the unwanted columns\n",
    "features = set(df.columns) - set([label, 'file', 'trial'])\n",
    "features = list(features)\n",
    "\n",
    "print('Classifying {} using...'.format(label))\n",
    "print('features: {}'.format(features))"
   ]
  },
  {
   "cell_type": "markdown",
   "metadata": {
    "colab_type": "text",
    "id": "GIWpQxidwiq6"
   },
   "source": [
    "Our next step is to convert each of the columns with discrete values (e.g., speaker, digit, trial) into the Pandas.Categorial data type. This creates a unique numerical encoding for each entry so that string values (such as speaker names) can be easily treated as numerical values."
   ]
  },
  {
   "cell_type": "code",
   "execution_count": null,
   "metadata": {
    "colab": {},
    "colab_type": "code",
    "id": "GnBZfexpwggY"
   },
   "outputs": [],
   "source": [
    "# Convert the data in the 'speaker', 'digit', and 'trial' columns of the\n",
    "# dataframe into the 'Categorical' type.\n",
    "df.speaker = pd.Categorical(df.speaker)\n",
    "df.digit = pd.Categorical(df.digit)\n",
    "df.trial = pd.Categorical(df.trial)"
   ]
  },
  {
   "cell_type": "markdown",
   "metadata": {
    "colab_type": "text",
    "id": "GDLNE-zWyGxk"
   },
   "source": [
    "If the the speaker is one of the features to be used, then we need swap out its numerical representation so that we can perform computations on it."
   ]
  },
  {
   "cell_type": "code",
   "execution_count": null,
   "metadata": {
    "colab": {},
    "colab_type": "code",
    "id": "kwFYJAyAwp_B"
   },
   "outputs": [],
   "source": [
    "# If the speaker is in the set of features used to classify the audio files,\n",
    "# then the string speaker value should be converted to its numerical version.\n",
    "if 'speaker' in features:\n",
    "    # Add a column containing the numerically encoded version of speaker name\n",
    "    df['speaker_code'] = df.speaker.cat.codes\n",
    "\n",
    "    # Replace the 'speaker' feature with the 'speaker_code' feature\n",
    "    features.remove('speaker')\n",
    "    features.append('speaker_code')\n",
    "\n",
    "    # Double check that there are not duplicate entries in the list of features\n",
    "    # by converting to a `set` object (which automatically removes duplicate\n",
    "    # entries) then convert back `list` object.\n",
    "    features = list(set(features))\n",
    "\n",
    "# Update the user on what columns and content remain in the datafram\n",
    "df.info()"
   ]
  },
  {
   "cell_type": "markdown",
   "metadata": {
    "colab_type": "text",
    "id": "V4CH6ZfdzEbA"
   },
   "source": [
    "Next we split the data into training and test sets."
   ]
  },
  {
   "cell_type": "code",
   "execution_count": null,
   "metadata": {
    "colab": {},
    "colab_type": "code",
    "id": "POmoLVIe1d2k"
   },
   "outputs": [],
   "source": [
    "# split X and y into training and testing sets\n",
    "# NOTE: Using convention that X = features, y = label\n",
    "X_train, X_test, y_train, y_test = train_test_split(\n",
    "    df.loc[:,features], df[label], test_size=0.25,\n",
    "    random_state=0, stratify = df[label])"
   ]
  },
  {
   "cell_type": "markdown",
   "metadata": {
    "colab_type": "text",
    "id": "PYx9GHfizKaS"
   },
   "source": [
    "Now, with the correct training features and labels, we can train a machine learning classification model. To start with, let's consider a decision tree."
   ]
  },
  {
   "cell_type": "code",
   "execution_count": null,
   "metadata": {
    "colab": {},
    "colab_type": "code",
    "id": "wvVI50ci1eAH"
   },
   "outputs": [],
   "source": [
    "# Instantiate a DecisionTree model\n",
    "model = tree.DecisionTreeClassifier(max_depth=4)\n",
    "\n",
    "# Fit the model to the training data\n",
    "model.fit(X_train, y_train)"
   ]
  },
  {
   "cell_type": "code",
   "execution_count": null,
   "metadata": {
    "colab": {},
    "colab_type": "code",
    "id": "l5TWpNhE1d9x"
   },
   "outputs": [],
   "source": [
    "# Convert each class name into a string representation\n",
    "class_names = [str(c) for c in model.classes_]\n",
    "\n",
    "# Generate the data to visualize the decision tree\n",
    "dot_data = tree.export_graphviz(model, out_file=None, \n",
    "                         feature_names=features,  \n",
    "                         class_names=class_names,  \n",
    "                         filled=True, rounded=True) \n",
    "\n",
    "# Visualize the tree from that exported data\n",
    "graph = graphviz.Source(dot_data)  \n",
    "graph"
   ]
  },
  {
   "cell_type": "markdown",
   "metadata": {
    "colab_type": "text",
    "id": "vy9xs8UU4XTq"
   },
   "source": [
    "## Evaluate on Test Data"
   ]
  },
  {
   "cell_type": "code",
   "execution_count": null,
   "metadata": {
    "colab": {},
    "colab_type": "code",
    "id": "P7IgU64x6QAY"
   },
   "outputs": [],
   "source": [
    "# Visualize the confusion matrix\n",
    "def plot_cmatrix(cm,labels,title='Confusion Matrix'):\n",
    "    \"\"\"\n",
    "    Plot the confusion matrix for the classifier\n",
    "\n",
    "    :param cm: the actual confusion matrix\n",
    "    :param labels: the labels to add along the axes of the matrix\n",
    "    :param title: the title to place over the confusion matrix plot\n",
    "    \"\"\"\n",
    "    # Generate a new figure and axes instance\n",
    "    fig = plt.figure()\n",
    "    ax = fig.add_subplot(111)\n",
    "\n",
    "    # Display the confusion matrix (attempt to account for normalization)\n",
    "    row_totals = np.sum(cm, axis=1)\n",
    "    vmax_val = row_totals.max() if row_totals.max() > 1 else 1.0\n",
    "    ax_im = ax.imshow(cm, cmap='Reds', vmin=0, vmax=vmax_val)\n",
    "\n",
    "    # Annotate the figure\n",
    "    plt.title(title, fontsize=20)\n",
    "    fig.colorbar(ax_im)\n",
    "    ax.set_xticks(range(len(labels)))\n",
    "    ax.set_yticks(range(len(labels)))\n",
    "    ax.set_xticklabels(labels, fontsize=16, rotation=70)\n",
    "    ax.set_yticklabels(labels, fontsize=16)\n",
    "    plt.xlabel('Predicted', fontsize=16)\n",
    "    plt.ylabel('True', fontsize=16)\n",
    "    plt.show()"
   ]
  },
  {
   "cell_type": "code",
   "execution_count": null,
   "metadata": {
    "colab": {},
    "colab_type": "code",
    "id": "Q6nWEv1M4Xf9"
   },
   "outputs": [],
   "source": [
    "# Predict class label probabilities\n",
    "labels=np.sort(y_test.unique())\n",
    "y_test_pred = model.predict(X_test)\n",
    "\n",
    "cm = metrics.confusion_matrix(y_test,y_test_pred, labels)\n",
    "plot_cmatrix(cm, labels)"
   ]
  },
  {
   "cell_type": "markdown",
   "metadata": {
    "colab_type": "text",
    "id": "h_-B4Ay05qC2"
   },
   "source": [
    "# Conclusion\n",
    "\n",
    "This is just a tutorial on how to get this process running. The real challenge is in designing appropriate features to adequately separate out the classes. You should also consider the possibility of using *other* classification models (KNN, logistic regression, etc...)."
   ]
  }
 ],
 "metadata": {
  "colab": {
   "collapsed_sections": [],
   "name": "SignalsML_Tutorial.ipynb",
   "provenance": []
  },
  "kernelspec": {
   "display_name": "Python 3",
   "language": "python",
   "name": "python3"
  },
  "language_info": {
   "codemirror_mode": {
    "name": "ipython",
    "version": 3
   },
   "file_extension": ".py",
   "mimetype": "text/x-python",
   "name": "python",
   "nbconvert_exporter": "python",
   "pygments_lexer": "ipython3",
   "version": "3.7.8"
  }
 },
 "nbformat": 4,
 "nbformat_minor": 1
}
